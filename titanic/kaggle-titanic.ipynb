{
  "nbformat": 4,
  "nbformat_minor": 0,
  "metadata": {
    "kernelspec": {
      "display_name": "NLP",
      "language": "python",
      "name": "nlp"
    },
    "language_info": {
      "codemirror_mode": {
        "name": "ipython",
        "version": 3
      },
      "file_extension": ".py",
      "mimetype": "text/x-python",
      "name": "python",
      "nbconvert_exporter": "python",
      "pygments_lexer": "ipython3",
      "version": "3.7.5"
    },
    "colab": {
      "name": "kaggle-titanic.ipynb",
      "provenance": []
    }
  },
  "cells": [
    {
      "cell_type": "code",
      "metadata": {
        "id": "YXwsg6FAwwz4",
        "colab_type": "code",
        "colab": {
          "base_uri": "https://localhost:8080/",
          "height": 153
        },
        "outputId": "0bad9fbe-6bfd-4037-c4a0-54e6ee07d118"
      },
      "source": [
        "# Standard Imports\n",
        "import numpy as np\n",
        "import pandas as pd\n",
        "import tensorflow as tf\n",
        "print(\"TF Version:\", tf.__version__)\n",
        "import math\n",
        "import matplotlib.pyplot as plt\n",
        "\n",
        "# Fetch competition dataset\n",
        "!kaggle competitions download -c titanic"
      ],
      "execution_count": 1,
      "outputs": [
        {
          "output_type": "display_data",
          "data": {
            "text/html": [
              "<p style=\"color: red;\">\n",
              "The default version of TensorFlow in Colab will soon switch to TensorFlow 2.x.<br>\n",
              "We recommend you <a href=\"https://www.tensorflow.org/guide/migrate\" target=\"_blank\">upgrade</a> now \n",
              "or ensure your notebook will continue to use TensorFlow 1.x via the <code>%tensorflow_version 1.x</code> magic:\n",
              "<a href=\"https://colab.research.google.com/notebooks/tensorflow_version.ipynb\" target=\"_blank\">more info</a>.</p>\n"
            ],
            "text/plain": [
              "<IPython.core.display.HTML object>"
            ]
          },
          "metadata": {
            "tags": []
          }
        },
        {
          "output_type": "stream",
          "text": [
            "TF Version: 1.15.0\n",
            "Warning: Looks like you're using an outdated API Version, please consider updating (server 1.5.6 / client 1.5.4)\n",
            "gender_submission.csv: Skipping, found more recently modified local copy (use --force to force download)\n",
            "test.csv: Skipping, found more recently modified local copy (use --force to force download)\n",
            "train.csv: Skipping, found more recently modified local copy (use --force to force download)\n"
          ],
          "name": "stdout"
        }
      ]
    },
    {
      "cell_type": "markdown",
      "metadata": {
        "id": "B3LixNrEww0R",
        "colab_type": "text"
      },
      "source": [
        "# Kaggle Titanic Competition"
      ]
    },
    {
      "cell_type": "markdown",
      "metadata": {
        "id": "vCSmTvLWww0a",
        "colab_type": "text"
      },
      "source": [
        "So the goal is to predict whether, given a set of features of a given passenger aboard the titanic, they would have survived the shipwreck or not.\n",
        "\n",
        "The training data is comprised of these features for a collection of passengers, and whether they survived or not. Let's take a look at the data."
      ]
    },
    {
      "cell_type": "code",
      "metadata": {
        "id": "GDTa0MS_ww0d",
        "colab_type": "code",
        "colab": {
          "base_uri": "https://localhost:8080/",
          "height": 206
        },
        "outputId": "f7144d0c-9cfc-48e6-8e59-128ced6552e1"
      },
      "source": [
        "DATASET = pd.read_csv('train.csv')\n",
        "TEST_DATASET = pd.read_csv('test.csv')\n",
        "DATASET.head()"
      ],
      "execution_count": 2,
      "outputs": [
        {
          "output_type": "execute_result",
          "data": {
            "text/html": [
              "<div>\n",
              "<style scoped>\n",
              "    .dataframe tbody tr th:only-of-type {\n",
              "        vertical-align: middle;\n",
              "    }\n",
              "\n",
              "    .dataframe tbody tr th {\n",
              "        vertical-align: top;\n",
              "    }\n",
              "\n",
              "    .dataframe thead th {\n",
              "        text-align: right;\n",
              "    }\n",
              "</style>\n",
              "<table border=\"1\" class=\"dataframe\">\n",
              "  <thead>\n",
              "    <tr style=\"text-align: right;\">\n",
              "      <th></th>\n",
              "      <th>PassengerId</th>\n",
              "      <th>Survived</th>\n",
              "      <th>Pclass</th>\n",
              "      <th>Name</th>\n",
              "      <th>Sex</th>\n",
              "      <th>Age</th>\n",
              "      <th>SibSp</th>\n",
              "      <th>Parch</th>\n",
              "      <th>Ticket</th>\n",
              "      <th>Fare</th>\n",
              "      <th>Cabin</th>\n",
              "      <th>Embarked</th>\n",
              "    </tr>\n",
              "  </thead>\n",
              "  <tbody>\n",
              "    <tr>\n",
              "      <th>0</th>\n",
              "      <td>1</td>\n",
              "      <td>0</td>\n",
              "      <td>3</td>\n",
              "      <td>Braund, Mr. Owen Harris</td>\n",
              "      <td>male</td>\n",
              "      <td>22.0</td>\n",
              "      <td>1</td>\n",
              "      <td>0</td>\n",
              "      <td>A/5 21171</td>\n",
              "      <td>7.2500</td>\n",
              "      <td>NaN</td>\n",
              "      <td>S</td>\n",
              "    </tr>\n",
              "    <tr>\n",
              "      <th>1</th>\n",
              "      <td>2</td>\n",
              "      <td>1</td>\n",
              "      <td>1</td>\n",
              "      <td>Cumings, Mrs. John Bradley (Florence Briggs Th...</td>\n",
              "      <td>female</td>\n",
              "      <td>38.0</td>\n",
              "      <td>1</td>\n",
              "      <td>0</td>\n",
              "      <td>PC 17599</td>\n",
              "      <td>71.2833</td>\n",
              "      <td>C85</td>\n",
              "      <td>C</td>\n",
              "    </tr>\n",
              "    <tr>\n",
              "      <th>2</th>\n",
              "      <td>3</td>\n",
              "      <td>1</td>\n",
              "      <td>3</td>\n",
              "      <td>Heikkinen, Miss. Laina</td>\n",
              "      <td>female</td>\n",
              "      <td>26.0</td>\n",
              "      <td>0</td>\n",
              "      <td>0</td>\n",
              "      <td>STON/O2. 3101282</td>\n",
              "      <td>7.9250</td>\n",
              "      <td>NaN</td>\n",
              "      <td>S</td>\n",
              "    </tr>\n",
              "    <tr>\n",
              "      <th>3</th>\n",
              "      <td>4</td>\n",
              "      <td>1</td>\n",
              "      <td>1</td>\n",
              "      <td>Futrelle, Mrs. Jacques Heath (Lily May Peel)</td>\n",
              "      <td>female</td>\n",
              "      <td>35.0</td>\n",
              "      <td>1</td>\n",
              "      <td>0</td>\n",
              "      <td>113803</td>\n",
              "      <td>53.1000</td>\n",
              "      <td>C123</td>\n",
              "      <td>S</td>\n",
              "    </tr>\n",
              "    <tr>\n",
              "      <th>4</th>\n",
              "      <td>5</td>\n",
              "      <td>0</td>\n",
              "      <td>3</td>\n",
              "      <td>Allen, Mr. William Henry</td>\n",
              "      <td>male</td>\n",
              "      <td>35.0</td>\n",
              "      <td>0</td>\n",
              "      <td>0</td>\n",
              "      <td>373450</td>\n",
              "      <td>8.0500</td>\n",
              "      <td>NaN</td>\n",
              "      <td>S</td>\n",
              "    </tr>\n",
              "  </tbody>\n",
              "</table>\n",
              "</div>"
            ],
            "text/plain": [
              "   PassengerId  Survived  Pclass  ...     Fare Cabin  Embarked\n",
              "0            1         0       3  ...   7.2500   NaN         S\n",
              "1            2         1       1  ...  71.2833   C85         C\n",
              "2            3         1       3  ...   7.9250   NaN         S\n",
              "3            4         1       1  ...  53.1000  C123         S\n",
              "4            5         0       3  ...   8.0500   NaN         S\n",
              "\n",
              "[5 rows x 12 columns]"
            ]
          },
          "metadata": {
            "tags": []
          },
          "execution_count": 2
        }
      ]
    },
    {
      "cell_type": "code",
      "metadata": {
        "id": "EG1fLzktx0Ea",
        "colab_type": "code",
        "colab": {
          "base_uri": "https://localhost:8080/",
          "height": 318
        },
        "outputId": "c2d91505-d6d7-49e5-9c25-b3721e2249cc"
      },
      "source": [
        "DATASET.info()"
      ],
      "execution_count": 3,
      "outputs": [
        {
          "output_type": "stream",
          "text": [
            "<class 'pandas.core.frame.DataFrame'>\n",
            "RangeIndex: 891 entries, 0 to 890\n",
            "Data columns (total 12 columns):\n",
            "PassengerId    891 non-null int64\n",
            "Survived       891 non-null int64\n",
            "Pclass         891 non-null int64\n",
            "Name           891 non-null object\n",
            "Sex            891 non-null object\n",
            "Age            714 non-null float64\n",
            "SibSp          891 non-null int64\n",
            "Parch          891 non-null int64\n",
            "Ticket         891 non-null object\n",
            "Fare           891 non-null float64\n",
            "Cabin          204 non-null object\n",
            "Embarked       889 non-null object\n",
            "dtypes: float64(2), int64(5), object(5)\n",
            "memory usage: 83.7+ KB\n"
          ],
          "name": "stdout"
        }
      ]
    },
    {
      "cell_type": "code",
      "metadata": {
        "id": "aOHI0pdYx32h",
        "colab_type": "code",
        "colab": {
          "base_uri": "https://localhost:8080/",
          "height": 300
        },
        "outputId": "1122b931-72f4-4a3f-e827-95603d180d75"
      },
      "source": [
        "DATASET.describe()"
      ],
      "execution_count": 4,
      "outputs": [
        {
          "output_type": "execute_result",
          "data": {
            "text/html": [
              "<div>\n",
              "<style scoped>\n",
              "    .dataframe tbody tr th:only-of-type {\n",
              "        vertical-align: middle;\n",
              "    }\n",
              "\n",
              "    .dataframe tbody tr th {\n",
              "        vertical-align: top;\n",
              "    }\n",
              "\n",
              "    .dataframe thead th {\n",
              "        text-align: right;\n",
              "    }\n",
              "</style>\n",
              "<table border=\"1\" class=\"dataframe\">\n",
              "  <thead>\n",
              "    <tr style=\"text-align: right;\">\n",
              "      <th></th>\n",
              "      <th>PassengerId</th>\n",
              "      <th>Survived</th>\n",
              "      <th>Pclass</th>\n",
              "      <th>Age</th>\n",
              "      <th>SibSp</th>\n",
              "      <th>Parch</th>\n",
              "      <th>Fare</th>\n",
              "    </tr>\n",
              "  </thead>\n",
              "  <tbody>\n",
              "    <tr>\n",
              "      <th>count</th>\n",
              "      <td>891.000000</td>\n",
              "      <td>891.000000</td>\n",
              "      <td>891.000000</td>\n",
              "      <td>714.000000</td>\n",
              "      <td>891.000000</td>\n",
              "      <td>891.000000</td>\n",
              "      <td>891.000000</td>\n",
              "    </tr>\n",
              "    <tr>\n",
              "      <th>mean</th>\n",
              "      <td>446.000000</td>\n",
              "      <td>0.383838</td>\n",
              "      <td>2.308642</td>\n",
              "      <td>29.699118</td>\n",
              "      <td>0.523008</td>\n",
              "      <td>0.381594</td>\n",
              "      <td>32.204208</td>\n",
              "    </tr>\n",
              "    <tr>\n",
              "      <th>std</th>\n",
              "      <td>257.353842</td>\n",
              "      <td>0.486592</td>\n",
              "      <td>0.836071</td>\n",
              "      <td>14.526497</td>\n",
              "      <td>1.102743</td>\n",
              "      <td>0.806057</td>\n",
              "      <td>49.693429</td>\n",
              "    </tr>\n",
              "    <tr>\n",
              "      <th>min</th>\n",
              "      <td>1.000000</td>\n",
              "      <td>0.000000</td>\n",
              "      <td>1.000000</td>\n",
              "      <td>0.420000</td>\n",
              "      <td>0.000000</td>\n",
              "      <td>0.000000</td>\n",
              "      <td>0.000000</td>\n",
              "    </tr>\n",
              "    <tr>\n",
              "      <th>25%</th>\n",
              "      <td>223.500000</td>\n",
              "      <td>0.000000</td>\n",
              "      <td>2.000000</td>\n",
              "      <td>20.125000</td>\n",
              "      <td>0.000000</td>\n",
              "      <td>0.000000</td>\n",
              "      <td>7.910400</td>\n",
              "    </tr>\n",
              "    <tr>\n",
              "      <th>50%</th>\n",
              "      <td>446.000000</td>\n",
              "      <td>0.000000</td>\n",
              "      <td>3.000000</td>\n",
              "      <td>28.000000</td>\n",
              "      <td>0.000000</td>\n",
              "      <td>0.000000</td>\n",
              "      <td>14.454200</td>\n",
              "    </tr>\n",
              "    <tr>\n",
              "      <th>75%</th>\n",
              "      <td>668.500000</td>\n",
              "      <td>1.000000</td>\n",
              "      <td>3.000000</td>\n",
              "      <td>38.000000</td>\n",
              "      <td>1.000000</td>\n",
              "      <td>0.000000</td>\n",
              "      <td>31.000000</td>\n",
              "    </tr>\n",
              "    <tr>\n",
              "      <th>max</th>\n",
              "      <td>891.000000</td>\n",
              "      <td>1.000000</td>\n",
              "      <td>3.000000</td>\n",
              "      <td>80.000000</td>\n",
              "      <td>8.000000</td>\n",
              "      <td>6.000000</td>\n",
              "      <td>512.329200</td>\n",
              "    </tr>\n",
              "  </tbody>\n",
              "</table>\n",
              "</div>"
            ],
            "text/plain": [
              "       PassengerId    Survived      Pclass  ...       SibSp       Parch        Fare\n",
              "count   891.000000  891.000000  891.000000  ...  891.000000  891.000000  891.000000\n",
              "mean    446.000000    0.383838    2.308642  ...    0.523008    0.381594   32.204208\n",
              "std     257.353842    0.486592    0.836071  ...    1.102743    0.806057   49.693429\n",
              "min       1.000000    0.000000    1.000000  ...    0.000000    0.000000    0.000000\n",
              "25%     223.500000    0.000000    2.000000  ...    0.000000    0.000000    7.910400\n",
              "50%     446.000000    0.000000    3.000000  ...    0.000000    0.000000   14.454200\n",
              "75%     668.500000    1.000000    3.000000  ...    1.000000    0.000000   31.000000\n",
              "max     891.000000    1.000000    3.000000  ...    8.000000    6.000000  512.329200\n",
              "\n",
              "[8 rows x 7 columns]"
            ]
          },
          "metadata": {
            "tags": []
          },
          "execution_count": 4
        }
      ]
    },
    {
      "cell_type": "markdown",
      "metadata": {
        "id": "C35_L5HfySdy",
        "colab_type": "text"
      },
      "source": [
        "There's data we can completely discard:\n",
        "- `PassengerId`, `Name`, and `Ticket` are unique identifiers and don't give us any useful information\n",
        "- `Cabin` is very sparse, about 7/9ths of entries have no cabin number, so we may as well ignore it"
      ]
    },
    {
      "cell_type": "code",
      "metadata": {
        "id": "K2j3AuTbywoe",
        "colab_type": "code",
        "colab": {
          "base_uri": "https://localhost:8080/",
          "height": 206
        },
        "outputId": "8d4983bc-5af5-41fb-a9a4-ef5df3f8c9f3"
      },
      "source": [
        "from sklearn.preprocessing import OrdinalEncoder\n",
        "\n",
        "explore = DATASET.copy()\n",
        "explore = explore.drop([\"PassengerId\",\"Name\",\"Cabin\",\"Ticket\"], axis=1)\n",
        "\n",
        "# Encode Sex into two separate categorical columns\n",
        "explore[\"Sex\"] = OrdinalEncoder().fit_transform(explore[[\"Sex\"]])\n",
        "\n",
        "explore.head()"
      ],
      "execution_count": 5,
      "outputs": [
        {
          "output_type": "execute_result",
          "data": {
            "text/html": [
              "<div>\n",
              "<style scoped>\n",
              "    .dataframe tbody tr th:only-of-type {\n",
              "        vertical-align: middle;\n",
              "    }\n",
              "\n",
              "    .dataframe tbody tr th {\n",
              "        vertical-align: top;\n",
              "    }\n",
              "\n",
              "    .dataframe thead th {\n",
              "        text-align: right;\n",
              "    }\n",
              "</style>\n",
              "<table border=\"1\" class=\"dataframe\">\n",
              "  <thead>\n",
              "    <tr style=\"text-align: right;\">\n",
              "      <th></th>\n",
              "      <th>Survived</th>\n",
              "      <th>Pclass</th>\n",
              "      <th>Sex</th>\n",
              "      <th>Age</th>\n",
              "      <th>SibSp</th>\n",
              "      <th>Parch</th>\n",
              "      <th>Fare</th>\n",
              "      <th>Embarked</th>\n",
              "    </tr>\n",
              "  </thead>\n",
              "  <tbody>\n",
              "    <tr>\n",
              "      <th>0</th>\n",
              "      <td>0</td>\n",
              "      <td>3</td>\n",
              "      <td>1.0</td>\n",
              "      <td>22.0</td>\n",
              "      <td>1</td>\n",
              "      <td>0</td>\n",
              "      <td>7.2500</td>\n",
              "      <td>S</td>\n",
              "    </tr>\n",
              "    <tr>\n",
              "      <th>1</th>\n",
              "      <td>1</td>\n",
              "      <td>1</td>\n",
              "      <td>0.0</td>\n",
              "      <td>38.0</td>\n",
              "      <td>1</td>\n",
              "      <td>0</td>\n",
              "      <td>71.2833</td>\n",
              "      <td>C</td>\n",
              "    </tr>\n",
              "    <tr>\n",
              "      <th>2</th>\n",
              "      <td>1</td>\n",
              "      <td>3</td>\n",
              "      <td>0.0</td>\n",
              "      <td>26.0</td>\n",
              "      <td>0</td>\n",
              "      <td>0</td>\n",
              "      <td>7.9250</td>\n",
              "      <td>S</td>\n",
              "    </tr>\n",
              "    <tr>\n",
              "      <th>3</th>\n",
              "      <td>1</td>\n",
              "      <td>1</td>\n",
              "      <td>0.0</td>\n",
              "      <td>35.0</td>\n",
              "      <td>1</td>\n",
              "      <td>0</td>\n",
              "      <td>53.1000</td>\n",
              "      <td>S</td>\n",
              "    </tr>\n",
              "    <tr>\n",
              "      <th>4</th>\n",
              "      <td>0</td>\n",
              "      <td>3</td>\n",
              "      <td>1.0</td>\n",
              "      <td>35.0</td>\n",
              "      <td>0</td>\n",
              "      <td>0</td>\n",
              "      <td>8.0500</td>\n",
              "      <td>S</td>\n",
              "    </tr>\n",
              "  </tbody>\n",
              "</table>\n",
              "</div>"
            ],
            "text/plain": [
              "   Survived  Pclass  Sex   Age  SibSp  Parch     Fare Embarked\n",
              "0         0       3  1.0  22.0      1      0   7.2500        S\n",
              "1         1       1  0.0  38.0      1      0  71.2833        C\n",
              "2         1       3  0.0  26.0      0      0   7.9250        S\n",
              "3         1       1  0.0  35.0      1      0  53.1000        S\n",
              "4         0       3  1.0  35.0      0      0   8.0500        S"
            ]
          },
          "metadata": {
            "tags": []
          },
          "execution_count": 5
        }
      ]
    },
    {
      "cell_type": "code",
      "metadata": {
        "id": "V90c9lS8zbiQ",
        "colab_type": "code",
        "colab": {
          "base_uri": "https://localhost:8080/",
          "height": 159
        },
        "outputId": "1c235d58-f1de-4397-c781-40306c740fee"
      },
      "source": [
        "explore.corr().Survived.sort_values(ascending=False)"
      ],
      "execution_count": 6,
      "outputs": [
        {
          "output_type": "execute_result",
          "data": {
            "text/plain": [
              "Survived    1.000000\n",
              "Fare        0.257307\n",
              "Parch       0.081629\n",
              "SibSp      -0.035322\n",
              "Age        -0.077221\n",
              "Pclass     -0.338481\n",
              "Sex        -0.543351\n",
              "Name: Survived, dtype: float64"
            ]
          },
          "metadata": {
            "tags": []
          },
          "execution_count": 6
        }
      ]
    },
    {
      "cell_type": "code",
      "metadata": {
        "id": "D2h3_uNjz0j0",
        "colab_type": "code",
        "colab": {
          "base_uri": "https://localhost:8080/",
          "height": 625
        },
        "outputId": "0492ebec-cdca-48a9-85d7-5d24a2dbe638"
      },
      "source": [
        "explore.hist(figsize=(20,10))\n",
        "print()"
      ],
      "execution_count": 7,
      "outputs": [
        {
          "output_type": "stream",
          "text": [
            "\n"
          ],
          "name": "stdout"
        },
        {
          "output_type": "display_data",
          "data": {
            "image/png": "[encoded data removed]",
            "text/plain": [
              "<Figure size 1440x720 with 9 Axes>"
            ]
          },
          "metadata": {
            "tags": []
          }
        }
      ]
    },
    {
      "cell_type": "markdown",
      "metadata": {
        "id": "zEynUiok1Kov",
        "colab_type": "text"
      },
      "source": [
        "`Age` is a decent enough contributor, as seen from the matrix and histograms, to need to stratify it. Let's make a good train-test split"
      ]
    },
    {
      "cell_type": "code",
      "metadata": {
        "id": "EZ-OoA6E0yp_",
        "colab_type": "code",
        "colab": {}
      },
      "source": [
        "from sklearn.pipeline import Pipeline\n",
        "from sklearn.compose import ColumnTransformer\n",
        "from sklearn.preprocessing import StandardScaler\n",
        "from sklearn.impute import SimpleImputer\n",
        "\n",
        "num_attribs = [\"Age\",\"Fare\",\"Parch\",\"SibSp\"]\n",
        "cat_attribs = [\"Sex\",\"Pclass\"]\n",
        "\n",
        "num_pipeline = Pipeline([ \n",
        "                         (\"imputer\", SimpleImputer(strategy=\"median\")),\n",
        "                         (\"std_scaler\", StandardScaler()) \n",
        "])\n",
        "\n",
        "pipeline = ColumnTransformer([\n",
        "                              (\"cat\", OrdinalEncoder(), cat_attribs),\n",
        "                              (\"num\", num_pipeline, num_attribs)\n",
        " ])"
      ],
      "execution_count": 0,
      "outputs": []
    },
    {
      "cell_type": "code",
      "metadata": {
        "id": "yPBzVGyNCTo7",
        "colab_type": "code",
        "colab": {}
      },
      "source": [
        "from sklearn.model_selection import StratifiedShuffleSplit\n",
        "\n",
        "no_labels = DATASET.drop([\"Survived\"], axis=1)\n",
        "\n",
        "titanic = pipeline.fit_transform(no_labels)\n",
        "\n",
        "sss = StratifiedShuffleSplit(n_splits=1, test_size=0.2, random_state=69)\n",
        "\n",
        "TRAIN = None\n",
        "TEST = None\n",
        "\n",
        "train, test = next(sss.split(titanic, titanic[:,0]))\n",
        "\n",
        "TRAIN = np.apply_along_axis(lambda i: titanic[i], 0, train)\n",
        "TRAIN_LABELS = DATASET.Survived.loc[train].values\n",
        "\n",
        "TEST = np.apply_along_axis(lambda i: titanic[i], 0, test)\n",
        "TEST_LABELS = DATASET.Survived.loc[test].values"
      ],
      "execution_count": 0,
      "outputs": []
    },
    {
      "cell_type": "markdown",
      "metadata": {
        "id": "M91GE53-JNhF",
        "colab_type": "text"
      },
      "source": [
        "Will good old logistic regression do?"
      ]
    },
    {
      "cell_type": "code",
      "metadata": {
        "id": "6ynEebAyFL8D",
        "colab_type": "code",
        "colab": {}
      },
      "source": [
        "from sklearn.linear_model import LogisticRegression\n",
        "\n",
        "model_v1 = LogisticRegression(solver='lbfgs')\n",
        "\n",
        "model_v1 = model_v1.fit(TRAIN, TRAIN_LABELS)\n",
        "\n",
        "def eval_model(model):\n",
        "  train_error = 1 - model.score(TRAIN, TRAIN_LABELS)\n",
        "  test_error = 1 - model.score(TEST, TEST_LABELS)\n",
        "\n",
        "  return train_error, test_error\n",
        "\n",
        "def render_eval(scores):\n",
        "  train, test = scores\n",
        "  print(\"Train Error:\",train)\n",
        "  print(\"Test Error:\",test)"
      ],
      "execution_count": 0,
      "outputs": []
    },
    {
      "cell_type": "markdown",
      "metadata": {
        "id": "OLEQWR42LaGN",
        "colab_type": "text"
      },
      "source": [
        "Let's establish a good baseline"
      ]
    },
    {
      "cell_type": "code",
      "metadata": {
        "id": "9kGI-zPDSjdc",
        "colab_type": "code",
        "colab": {
          "base_uri": "https://localhost:8080/",
          "height": 52
        },
        "outputId": "1ea9c618-e18b-4068-8d4b-828c1ba182f0"
      },
      "source": [
        "render_eval(eval_model(model_v1))"
      ],
      "execution_count": 13,
      "outputs": [
        {
          "output_type": "stream",
          "text": [
            "Train Error: 0.1980337078651685\n",
            "Test Error: 0.23463687150837986\n"
          ],
          "name": "stdout"
        }
      ]
    },
    {
      "cell_type": "markdown",
      "metadata": {
        "id": "S7nsfc0pSCUh",
        "colab_type": "text"
      },
      "source": [
        "## Improvements\n",
        "### Experimenting with regularization\n",
        "Let's try and see how alpha affects our scores"
      ]
    },
    {
      "cell_type": "code",
      "metadata": {
        "id": "a6QX1Xk8STEj",
        "colab_type": "code",
        "colab": {
          "base_uri": "https://localhost:8080/",
          "height": 314
        },
        "outputId": "b3aa150b-f86a-4b30-9e71-6b7b3603cb6b"
      },
      "source": [
        "def ex_regularize(span=(1,10),step=1):\n",
        "  start, stop = span\n",
        "  xs = np.arange(start, stop, step)\n",
        "\n",
        "  results = []\n",
        "\n",
        "  for ix in range(len(xs)):\n",
        "    model = LogisticRegression(solver='lbfgs', C=xs[ix])\n",
        "    model.fit(TRAIN, TRAIN_LABELS)\n",
        "    results.append(eval_model(model))\n",
        "  \n",
        "  return xs, [ a for a,b in results], [ b for a,b in results ]\n",
        "\n",
        "reg_span, reg_train_errs, reg_test_errs = ex_regularize()\n",
        "\n",
        "plt.plot(reg_span, reg_train_errs, label=\"Training Error\")\n",
        "plt.plot(reg_span, reg_test_errs, label=\"Testing Error\")\n",
        "plt.legend()\n",
        "plt.xlabel(\"Inverse Regularization Coefficient\")\n",
        "plt.ylabel(\"Error\")\n",
        "plt.show()\n",
        "1 / reg_span"
      ],
      "execution_count": 14,
      "outputs": [
        {
          "output_type": "display_data",
          "data": {
            "image/png": "[encoded data removed]",
            "text/plain": [
              "<Figure size 432x288 with 1 Axes>"
            ]
          },
          "metadata": {
            "tags": []
          }
        },
        {
          "output_type": "execute_result",
          "data": {
            "text/plain": [
              "array([1.        , 0.5       , 0.33333333, 0.25      , 0.2       ,\n",
              "       0.16666667, 0.14285714, 0.125     , 0.11111111])"
            ]
          },
          "metadata": {
            "tags": []
          },
          "execution_count": 14
        }
      ]
    },
    {
      "cell_type": "markdown",
      "metadata": {
        "id": "Kwgly3JVYVCt",
        "colab_type": "text"
      },
      "source": [
        "Regularization doesn't really seem to be the limiting factor here unfortunately. But this experiment has shown us something even more important. Our `LogisticRegression` model is having trouble fitting the training data. So we need a larger model. Keras to the rescue."
      ]
    },
    {
      "cell_type": "code",
      "metadata": {
        "id": "AFLs7SbKeY5O",
        "colab_type": "code",
        "colab": {}
      },
      "source": [
        "from keras.models import Sequential\n",
        "from keras.layers import Dense, Activation\n",
        "from keras.callbacks import EarlyStopping\n",
        "\n",
        "def make_model():\n",
        "  # Baseline\n",
        "  model = Sequential([ \n",
        "                      Dense(12, input_shape=(6,), activation='relu'),\n",
        "                      Dense(1, activation='sigmoid') \n",
        "                    ])\n",
        "\n",
        "  model.compile(\n",
        "      loss='binary_crossentropy',\n",
        "      optimizer='adam',\n",
        "      metrics=['accuracy']\n",
        "  )\n",
        "\n",
        "  return model\n",
        "\n",
        "def decide(yhats, threshold=0.5):\n",
        "  flip = lambda x: 1. if x >= 0.5 else 0.\n",
        "  return np.vectorize(flip)(yhats)\n",
        "\n",
        "def score_model(model):\n",
        "  return model.evaluate(TEST, TEST_LABELS)[1]\n",
        "\n",
        "def train_model(\n",
        "    model, \n",
        "    data=(TRAIN,TRAIN_LABELS),\n",
        "    epochs=100, batch_size=8,\n",
        "    validation_data=None, validation_split=0.2,\n",
        "    early_stop=False\n",
        "    ):\n",
        "  \n",
        "  xs,ys = data\n",
        "\n",
        "  early_stopper = EarlyStopping(\n",
        "    monitor='val_acc', \n",
        "    patience=5,\n",
        "    restore_best_weights=True\n",
        "  )\n",
        "\n",
        "  trace = model.fit(\n",
        "      xs, ys,\n",
        "      validation_split=validation_split,\n",
        "      batch_size=16,\n",
        "      epochs=epochs,\n",
        "      verbose=0,\n",
        "      validation_data=validation_data,\n",
        "      use_multiprocessing=True,\n",
        "      callbacks=[early_stopper] if early_stop else []\n",
        "  )\n",
        "\n",
        "  return trace.history\n",
        "\n",
        "def evaluate_deep_model(model, hist, metrics=[]):\n",
        "  model.summary()\n",
        "\n",
        "  metrics = ['loss'] + metrics\n",
        "\n",
        "  epochs = len(hist['loss'])\n",
        "  xs = np.arange(epochs).astype('int')\n",
        "\n",
        "  fig, axs = plt.subplots(len(metrics))\n",
        "  fig.set_size_inches(8,8)\n",
        "  plt.subplots_adjust(hspace=0.4)\n",
        "\n",
        "  if type(axs) != type(np.array([])):\n",
        "    axs = np.array([axs])\n",
        "\n",
        "  for i,metric in enumerate(metrics):\n",
        "    met = hist[f\"{metric}\"]\n",
        "    val_met = hist[f\"val_{metric}\"]\n",
        "\n",
        "    axs[i].set_title(metric)\n",
        "    axs[i].set_xlabel(\"Steps\")\n",
        "    axs[i].plot(xs, met, label=f\"Train {metric}\")\n",
        "    axs[i].plot(xs, val_met, label=f\"Validation {metric}\")\n",
        "    axs[i].legend()\n",
        "  \n",
        "  score = score_model(model)\n",
        "  print(\"Score:\", score)"
      ],
      "execution_count": 0,
      "outputs": []
    },
    {
      "cell_type": "code",
      "metadata": {
        "id": "OG2hyILY2PtX",
        "colab_type": "code",
        "colab": {
          "base_uri": "https://localhost:8080/",
          "height": 761
        },
        "outputId": "54b3fbca-d147-45d1-f549-db626de2b3f7"
      },
      "source": [
        "model_v2 = make_model()\n",
        "model_v2_hist = train_model(model_v2, \n",
        "                            (TRAIN, TRAIN_LABELS), \n",
        "                            epochs=500,\n",
        "                            early_stop=True)\n",
        "\n",
        "evaluate_deep_model(model_v2, model_v2_hist, metrics=['acc'])"
      ],
      "execution_count": 33,
      "outputs": [
        {
          "output_type": "stream",
          "text": [
            "Model: \"sequential_14\"\n",
            "_________________________________________________________________\n",
            "Layer (type)                 Output Shape              Param #   \n",
            "=================================================================\n",
            "dense_24 (Dense)             (None, 12)                84        \n",
            "_________________________________________________________________\n",
            "dense_25 (Dense)             (None, 1)                 13        \n",
            "=================================================================\n",
            "Total params: 97\n",
            "Trainable params: 97\n",
            "Non-trainable params: 0\n",
            "_________________________________________________________________\n",
            "179/179 [==============================] - 0s 40us/step\n",
            "Score: 0.7653631281586333\n"
          ],
          "name": "stdout"
        },
        {
          "output_type": "display_data",
          "data": {
            "image/png": "[encoded data removed]",
            "text/plain": [
              "<Figure size 576x576 with 2 Axes>"
            ]
          },
          "metadata": {
            "tags": []
          }
        }
      ]
    },
    {
      "cell_type": "markdown",
      "metadata": {
        "id": "lO2uESSQDBge",
        "colab_type": "text"
      },
      "source": [
        "This is better. Let's see if cross-validation will help things."
      ]
    },
    {
      "cell_type": "code",
      "metadata": {
        "id": "ho139vSJDFKV",
        "colab_type": "code",
        "colab": {}
      },
      "source": [
        "from sklearn.model_selection import StratifiedKFold\n",
        "\n",
        "def k_fold(X, Y, k=5):\n",
        "  folder = StratifiedKFold(n_splits=k, shuffle=True, random_state=6)\n",
        "\n",
        "  datasets = []\n",
        "  for train_ix, test_ix in folder.split(X, Y):\n",
        "    train = X[train_ix], Y[train_ix]\n",
        "    test = X[test_ix], Y[test_ix]\n",
        "\n",
        "    datasets.append((train, test))\n",
        "  \n",
        "  return datasets\n",
        "\n",
        "def cross_validate(model_gen, k=5):\n",
        "  folds = k_fold(TRAIN, TRAIN_LABELS, k=k)\n",
        "\n",
        "  models = { }\n",
        "\n",
        "  for i,(train,val) in enumerate(folds):\n",
        "    print(f\"Fold: {i+1}/{k}\")\n",
        "    train_x, train_y = train\n",
        "\n",
        "    model = model_gen()\n",
        "    hist = train_model(model, (train_x,train_y),\n",
        "                       validation_data=val,\n",
        "                       epochs=500, \n",
        "                       early_stop=True)\n",
        "\n",
        "    score = score_model(model)\n",
        "    print(\"Score:\",score)\n",
        "\n",
        "    models[score] = (model,hist)\n",
        "\n",
        "  return models[sorted(models.keys(), reverse=True)[0]]"
      ],
      "execution_count": 0,
      "outputs": []
    },
    {
      "cell_type": "code",
      "metadata": {
        "id": "L5k8GmuZKIZK",
        "colab_type": "code",
        "colab": {
          "base_uri": "https://localhost:8080/",
          "height": 123
        },
        "outputId": "30d0e55f-424c-4de7-dac5-0a3f83ab484e"
      },
      "source": [
        "model_v2, model_v2_hist = cross_validate(make_model, k=2)"
      ],
      "execution_count": 35,
      "outputs": [
        {
          "output_type": "stream",
          "text": [
            "Fold: 1/2\n",
            "179/179 [==============================] - 0s 37us/step\n",
            "Score: 0.7932960907174222\n",
            "Fold: 2/2\n",
            "179/179 [==============================] - 0s 53us/step\n",
            "Score: 0.7765363125161752\n"
          ],
          "name": "stdout"
        }
      ]
    },
    {
      "cell_type": "code",
      "metadata": {
        "id": "H8EE7pB0KRJx",
        "colab_type": "code",
        "colab": {
          "base_uri": "https://localhost:8080/",
          "height": 761
        },
        "outputId": "e5ef5ec7-c66b-4ac3-88e8-343e6797ad32"
      },
      "source": [
        "evaluate_deep_model(model_v2, model_v2_hist, metrics=['acc'])"
      ],
      "execution_count": 36,
      "outputs": [
        {
          "output_type": "stream",
          "text": [
            "Model: \"sequential_15\"\n",
            "_________________________________________________________________\n",
            "Layer (type)                 Output Shape              Param #   \n",
            "=================================================================\n",
            "dense_26 (Dense)             (None, 12)                84        \n",
            "_________________________________________________________________\n",
            "dense_27 (Dense)             (None, 1)                 13        \n",
            "=================================================================\n",
            "Total params: 97\n",
            "Trainable params: 97\n",
            "Non-trainable params: 0\n",
            "_________________________________________________________________\n",
            "179/179 [==============================] - 0s 46us/step\n",
            "Score: 0.7932960907174222\n"
          ],
          "name": "stdout"
        },
        {
          "output_type": "display_data",
          "data": {
            "image/png": "[encoded data removed]",
            "text/plain": [
              "<Figure size 576x576 with 2 Axes>"
            ]
          },
          "metadata": {
            "tags": []
          }
        }
      ]
    },
    {
      "cell_type": "markdown",
      "metadata": {
        "id": "EG2iX4AoMPUv",
        "colab_type": "text"
      },
      "source": [
        "Alright I think we've squeezed enough out of this model. Overfitting is not the problem. Lets make it easier to make and evaluate bigger models, then test things out on those"
      ]
    },
    {
      "cell_type": "code",
      "metadata": {
        "id": "390XcMFrMk5r",
        "colab_type": "code",
        "colab": {}
      },
      "source": [
        "def fresh_model(arch=[]):\n",
        "  model = Sequential( arch + [Dense(1, activation='sigmoid')] )\n",
        "\n",
        "  model.compile(\n",
        "      loss='binary_crossentropy',\n",
        "      optimizer='adam',\n",
        "      metrics=['accuracy']\n",
        "  )\n",
        "\n",
        "  return model"
      ],
      "execution_count": 0,
      "outputs": []
    },
    {
      "cell_type": "code",
      "metadata": {
        "id": "-L8RFTqhNStq",
        "colab_type": "code",
        "colab": {
          "base_uri": "https://localhost:8080/",
          "height": 548
        },
        "outputId": "c2876192-1f93-4f4f-bb85-55aa5bf099b5"
      },
      "source": [
        "# First architecture to try\n",
        "\n",
        "arch_v1 = [ Dense(24, activation='relu'),\n",
        "            Dense(24, activation='relu') ]\n",
        "\n",
        "arch_v1_model, arch_v1_hist = cross_validate(lambda: fresh_model(arch_v1), k=10)"
      ],
      "execution_count": 38,
      "outputs": [
        {
          "output_type": "stream",
          "text": [
            "Fold: 1/10\n",
            "179/179 [==============================] - 0s 62us/step\n",
            "Score: 0.7597765376447966\n",
            "Fold: 2/10\n",
            "179/179 [==============================] - 0s 45us/step\n",
            "Score: 0.7765363101852673\n",
            "Fold: 3/10\n",
            "179/179 [==============================] - 0s 42us/step\n",
            "Score: 0.7597765359798623\n",
            "Fold: 4/10\n",
            "179/179 [==============================] - 0s 53us/step\n",
            "Score: 0.7765363125161752\n",
            "Fold: 5/10\n",
            "179/179 [==============================] - 0s 61us/step\n",
            "Score: 0.7821229023640383\n",
            "Fold: 6/10\n",
            "179/179 [==============================] - 0s 48us/step\n",
            "Score: 0.7653631258277254\n",
            "Fold: 7/10\n",
            "179/179 [==============================] - 0s 60us/step\n",
            "Score: 0.7709497180064964\n",
            "Fold: 8/10\n",
            "179/179 [==============================] - 0s 80us/step\n",
            "Score: 0.7988826828961931\n",
            "Fold: 9/10\n",
            "179/179 [==============================] - 0s 45us/step\n",
            "Score: 0.7765363141811094\n",
            "Fold: 10/10\n",
            "179/179 [==============================] - 0s 69us/step\n",
            "Score: 0.7821229046949462\n"
          ],
          "name": "stdout"
        }
      ]
    },
    {
      "cell_type": "code",
      "metadata": {
        "id": "PJ-Ils6SY1nC",
        "colab_type": "code",
        "colab": {
          "base_uri": "https://localhost:8080/",
          "height": 796
        },
        "outputId": "e34e0575-c15a-42d2-a8f4-c6bf8e041bce"
      },
      "source": [
        "evaluate_deep_model(arch_v1_model, arch_v1_hist, metrics=['acc'])"
      ],
      "execution_count": 39,
      "outputs": [
        {
          "output_type": "stream",
          "text": [
            "Model: \"sequential_24\"\n",
            "_________________________________________________________________\n",
            "Layer (type)                 Output Shape              Param #   \n",
            "=================================================================\n",
            "dense_30 (Dense)             (None, 24)                168       \n",
            "_________________________________________________________________\n",
            "dense_31 (Dense)             (None, 24)                600       \n",
            "_________________________________________________________________\n",
            "dense_39 (Dense)             (None, 1)                 25        \n",
            "=================================================================\n",
            "Total params: 793\n",
            "Trainable params: 793\n",
            "Non-trainable params: 0\n",
            "_________________________________________________________________\n",
            "179/179 [==============================] - 0s 51us/step\n",
            "Score: 0.7653631298235675\n"
          ],
          "name": "stdout"
        },
        {
          "output_type": "display_data",
          "data": {
            "image/png": "[encoded data removed]",
            "text/plain": [
              "<Figure size 576x576 with 2 Axes>"
            ]
          },
          "metadata": {
            "tags": []
          }
        }
      ]
    },
    {
      "cell_type": "code",
      "metadata": {
        "id": "YfDonTmleiU4",
        "colab_type": "code",
        "colab": {
          "base_uri": "https://localhost:8080/",
          "height": 52
        },
        "outputId": "c23c5d4d-1e01-49cf-d675-529942ee6e9f"
      },
      "source": [
        "arch_v1_model.evaluate(TRAIN, TRAIN_LABELS)"
      ],
      "execution_count": 40,
      "outputs": [
        {
          "output_type": "stream",
          "text": [
            "712/712 [==============================] - 0s 36us/step\n"
          ],
          "name": "stdout"
        },
        {
          "output_type": "execute_result",
          "data": {
            "text/plain": [
              "[0.5236831823091829, 0.8117977528089888]"
            ]
          },
          "metadata": {
            "tags": []
          },
          "execution_count": 40
        }
      ]
    },
    {
      "cell_type": "markdown",
      "metadata": {
        "id": "M-OKC0k4REf3",
        "colab_type": "text"
      },
      "source": [
        "## Sumbission"
      ]
    },
    {
      "cell_type": "code",
      "metadata": {
        "id": "CRFGU8ysLgc4",
        "colab_type": "code",
        "colab": {}
      },
      "source": [
        "final_model = arch_v1_model\n",
        "\n",
        "# Predict Test and save in output file\n",
        "titanic_test = pipeline.transform(TEST_DATASET)\n",
        "predictions = decide(final_model.predict(titanic_test).flatten())\n",
        "\n",
        "xs = list(range(len(predictions)))\n",
        "\n",
        "output = pd.DataFrame({ \n",
        "    'PassengerId': TEST_DATASET['PassengerId'],\n",
        "    'Survived': predictions.astype('int8')\n",
        "})\n",
        "\n",
        "output.to_csv('output.csv', index=False)"
      ],
      "execution_count": 0,
      "outputs": []
    },
    {
      "cell_type": "code",
      "metadata": {
        "id": "FvCPRqJ3LR8Y",
        "colab_type": "code",
        "colab": {
          "base_uri": "https://localhost:8080/",
          "height": 70
        },
        "outputId": "d510952c-b85b-49b2-8331-9eebb09a85c5"
      },
      "source": [
        "# Submit to Kaggle (BE CAREFUL WITH THS!)\n",
        "!kaggle competitions submit -f output.csv -m \"Baseline\" titanic"
      ],
      "execution_count": 42,
      "outputs": [
        {
          "output_type": "stream",
          "text": [
            "Warning: Looks like you're using an outdated API Version, please consider updating (server 1.5.6 / client 1.5.4)\n",
            "\r  0% 0.00/2.77k [00:00<?, ?B/s]\r100% 2.77k/2.77k [00:00<00:00, 13.2kB/s]\n",
            "Successfully submitted to Titanic: Machine Learning from Disaster"
          ],
          "name": "stdout"
        }
      ]
    },
    {
      "cell_type": "code",
      "metadata": {
        "id": "PSEBKNGMM_0a",
        "colab_type": "code",
        "colab": {}
      },
      "source": [
        ""
      ],
      "execution_count": 0,
      "outputs": []
    }
  ]
}